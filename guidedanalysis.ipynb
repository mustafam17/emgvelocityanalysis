{
 "cells": [
  {
   "cell_type": "code",
   "execution_count": null,
   "metadata": {},
   "outputs": [],
   "source": [
    "# import modules\n",
    "\n",
    "import matplotlib.pyplot as plt\n",
    "import scipy as sp\n",
    "from scipy import signal"
   ]
  },
  {
   "cell_type": "code",
   "execution_count": null,
   "metadata": {},
   "outputs": [],
   "source": [
    "# initialize example plot\n",
    "\n",
    "df_emg.plot(x='X[s]', y='Upper Trapezius: EMG 1')"
   ]
  },
  {
   "cell_type": "code",
   "execution_count": null,
   "metadata": {},
   "outputs": [],
   "source": [
    "# EMG mean contraction correction\n",
    "\n",
    "emg_trap = df_emg.iloc[:, 0]\n",
    "emg_trap_mean = df_emg['Upper Trapezius: EMG 1'].mean()\n",
    "df_emg[\"Upper Trapezius: EMG 1\"] -= emg_trap_mean"
   ]
  },
  {
   "cell_type": "code",
   "execution_count": null,
   "metadata": {},
   "outputs": [],
   "source": [
    "# plot mean contraction corrected EMG series\n",
    "\n",
    "df_emg.plot(x='X[s]', y='Upper Trapezius: EMG 1')"
   ]
  },
  {
   "cell_type": "code",
   "execution_count": null,
   "metadata": {},
   "outputs": [],
   "source": [
    "# create bandpass filter for EMG\n",
    "\n",
    "high = 20/(1000/2)\n",
    "low = 450/(1000/2)\n",
    "b, a = sp.signal.butter(4, [high,low], btype='bandpass')\n",
    "\n",
    "emg_filtered = sp.signal.filtfilt(b, a, df_emg['Upper Trapezius: EMG 1'])"
   ]
  },
  {
   "cell_type": "code",
   "execution_count": null,
   "metadata": {},
   "outputs": [],
   "source": [
    "# plot series with bandpass filter applied\n",
    "\n",
    "plt.plot(df_emg['X[s]'], emg_filtered)"
   ]
  },
  {
   "cell_type": "code",
   "execution_count": null,
   "metadata": {},
   "outputs": [],
   "source": [
    "# rectify filtered signal\n",
    "\n",
    "emg_rectified = abs(emg_filtered)"
   ]
  },
  {
   "cell_type": "code",
   "execution_count": null,
   "metadata": {},
   "outputs": [],
   "source": [
    "# plot rectified signal\n",
    "\n",
    "plt.plot(df_emg['X[s]'], emg_rectified)"
   ]
  },
  {
   "cell_type": "code",
   "execution_count": null,
   "metadata": {},
   "outputs": [],
   "source": [
    "# apply basic analog filtering to remove DC offset or any other artifacts\n",
    "\n",
    "low_pass = 10\n",
    "sfreq = 1000\n",
    "\n",
    "low_pass = low_pass/(sfreq/2)\n",
    "b2, a2 = sp.signal.butter(4, low_pass, btype='lowpass')\n",
    "emg_envelope = sp.signal.filtfilt(b2, a2, emg_rectified)"
   ]
  },
  {
   "cell_type": "code",
   "execution_count": null,
   "metadata": {},
   "outputs": [],
   "source": [
    "# plot signal after analog filtering\n",
    "\n",
    "plt.plot(df_emg['X[s]'], emg_envelope)"
   ]
  },
  {
   "cell_type": "code",
   "execution_count": null,
   "metadata": {},
   "outputs": [],
   "source": [
    "# change axes to better visualize changes in signal\n",
    "\n",
    "plt.axis([0, 10, 0, 0.000150])\n",
    "plt.plot(df_emg['X[s]'], emg_envelope)"
   ]
  },
  {
   "cell_type": "code",
   "execution_count": null,
   "metadata": {},
   "outputs": [],
   "source": [
    "# complete filtering and rectification for every muscle group\n",
    "\n",
    "df_emg['Upper Trapezius: EMG 1'] = emg_envelope\n",
    "muscles = ['Upper Trapezius: EMG 1', 'Posterior deltoid: EMG 2', 'Anterior deltoid: EMG 3',\n",
    "                'Biceps brachii: EMG 4', 'Triceps brachii: EMG 5', 'Pectoralis major: EMG 6', \n",
    "                'Brachioradialis: EMG 7']\n",
    "\n",
    "for muscle in muscles:\n",
    "    # mean correction\n",
    "    emg_mean = df_emg[muscle].mean()\n",
    "    df_emg[muscle] -= emg_mean\n",
    "    \n",
    "    #filtering\n",
    "    high = 20/(1000/2)\n",
    "    low = 450/(1000/2)\n",
    "    b, a = sp.signal.butter(4, [high,low], btype='bandpass')\n",
    "    emg_filtered = sp.signal.filtfilt(b, a, df_emg[muscle])\n",
    "    \n",
    "    #rectification\n",
    "    emg_rectified = abs(emg_filtered)\n",
    "    \n",
    "    #enveloping\n",
    "    low_pass = 10\n",
    "    sfreq = 1000\n",
    "    low_pass = low_pass/(sfreq/2)\n",
    "    b2, a2 = sp.signal.butter(4, low_pass, btype='lowpass')\n",
    "    emg_envelope = sp.signal.filtfilt(b2, a2, emg_rectified)\n",
    "    \n",
    "    #resetting df\n",
    "    df_emg[muscle] = emg_envelope"
   ]
  },
  {
   "cell_type": "code",
   "execution_count": null,
   "metadata": {},
   "outputs": [],
   "source": [
    "# this function process_EMG can be used to complete all the steps found in this notebook\n",
    "\n",
    "def process_EMG(df, df_emg):\n",
    "    #process\n",
    "    muscles = ['Upper Trapezius: EMG 1', 'Posterior deltoid: EMG 2', 'Anterior deltoid: EMG 3',\n",
    "                    'Biceps brachii: EMG 4', 'Triceps brachii: EMG 5', 'Pectoralis major: EMG 6', \n",
    "                    'Brachioradialis: EMG 7']\n",
    "    for muscle in muscles:\n",
    "        # mean correction\n",
    "        emg_mean = df_emg[muscle].mean()\n",
    "        df_emg[muscle] -= emg_mean\n",
    "\n",
    "        #filtering\n",
    "        high = 20/(1000/2)\n",
    "        low = 450/(1000/2)\n",
    "        b, a = sp.signal.butter(4, [high,low], btype='bandpass')\n",
    "        emg_filtered = sp.signal.filtfilt(b, a, df_emg[muscle])\n",
    "\n",
    "        #rectification\n",
    "        emg_rectified = abs(emg_filtered)\n",
    "\n",
    "        #enveloping\n",
    "        low_pass = 10\n",
    "        sfreq = 1000\n",
    "        low_pass = low_pass/(sfreq/2)\n",
    "        b2, a2 = sp.signal.butter(4, low_pass, btype='lowpass')\n",
    "        emg_envelope = sp.signal.filtfilt(b2, a2, emg_rectified)\n",
    "\n",
    "        #resetting df\n",
    "        df_emg[muscle] = emg_envelope"
   ]
  },
  {
   "cell_type": "code",
   "execution_count": null,
   "metadata": {},
   "outputs": [],
   "source": [
    "# example function call\n",
    "\n",
    "process_EMG(df1, df_emg1)"
   ]
  }
 ],
 "metadata": {
  "kernelspec": {
   "display_name": "Python 3 (ipykernel)",
   "language": "python",
   "name": "python3"
  },
  "language_info": {
   "codemirror_mode": {
    "name": "ipython",
    "version": 3
   },
   "file_extension": ".py",
   "mimetype": "text/x-python",
   "name": "python",
   "nbconvert_exporter": "python",
   "pygments_lexer": "ipython3",
   "version": "3.8.0"
  }
 },
 "nbformat": 4,
 "nbformat_minor": 4
}
