{
 "cells": [
  {
   "cell_type": "code",
   "execution_count": null,
   "metadata": {},
   "outputs": [],
   "source": [
    "# import modules\n",
    "\n",
    "import pandas as pd\n",
    "import numpy as np\n",
    "import time"
   ]
  },
  {
   "cell_type": "code",
   "execution_count": null,
   "metadata": {},
   "outputs": [],
   "source": [
    "# import csv file\n",
    "\n",
    "filename = \"test.csv\"\n",
    "df = pd.read_csv(filename)"
   ]
  },
  {
   "cell_type": "code",
   "execution_count": null,
   "metadata": {},
   "outputs": [],
   "source": [
    "# create dataframe without chunks (slow)\n",
    "\n",
    "s_time = time.time()\n",
    "df = pd.read_csv(\"test.csv\")\n",
    "e_time = time.time()\n",
    "  \n",
    "print(\"Read without chunks: \", (e_time-s_time), \"seconds\")"
   ]
  },
  {
   "cell_type": "code",
   "execution_count": null,
   "metadata": {},
   "outputs": [],
   "source": [
    "# create dataframe without chunks (fast)\n",
    "\n",
    "s_time_chunk = time.time()\n",
    "chunk = pd.read_csv(\"test.csv\", chunksize=1000)\n",
    "e_time_chunk = time.time()\n",
    "  \n",
    "print(\"With chunks: \", (e_time_chunk-s_time_chunk), \"sec\")\n",
    "df = pd.concat(chunk)"
   ]
  },
  {
   "cell_type": "code",
   "execution_count": null,
   "metadata": {},
   "outputs": [],
   "source": [
    "# sourcing EMG data\n",
    "\n",
    "df = df.drop(df.columns[[4,5]], axis=1, inplace=True)\n",
    "df_emg = df.filter(like='EMG',axis=1)\n",
    "time = df.iloc[:,0]\n",
    "df_emg.join(time\n",
    "            \n",
    "column_names = ['X[s]', 'Upper Trapezius: EMG 1', 'Posterior deltoid: EMG 2', 'Anterior deltoid: EMG 3',\n",
    "                'Biceps brachii: EMG 4', 'Triceps brachii: EMG 5', 'Pectoralis major: EMG 6', \n",
    "                'Brachioradialis: EMG 7']\n",
    "\n",
    "df_emg = df_emg.reindex(columns=column_names)"
   ]
  }
 ],
 "metadata": {
  "kernelspec": {
   "display_name": "Python 3 (ipykernel)",
   "language": "python",
   "name": "python3"
  },
  "language_info": {
   "codemirror_mode": {
    "name": "ipython",
    "version": 3
   },
   "file_extension": ".py",
   "mimetype": "text/x-python",
   "name": "python",
   "nbconvert_exporter": "python",
   "pygments_lexer": "ipython3",
   "version": "3.8.0"
  }
 },
 "nbformat": 4,
 "nbformat_minor": 4
}
